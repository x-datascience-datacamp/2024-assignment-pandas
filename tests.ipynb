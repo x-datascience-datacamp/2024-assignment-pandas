{
 "cells": [
  {
   "cell_type": "code",
   "execution_count": 1,
   "id": "initial_id",
   "metadata": {
    "collapsed": true,
    "ExecuteTime": {
     "end_time": "2024-12-16T18:12:52.741802Z",
     "start_time": "2024-12-16T18:12:52.015609Z"
    }
   },
   "outputs": [],
   "source": [
    "import numpy as np\n",
    "import pandas as pd"
   ]
  },
  {
   "cell_type": "code",
   "outputs": [],
   "source": [
    "regions = pd.read_csv('data/regions.csv')\n",
    "departements = pd.read_csv('data/departments.csv')"
   ],
   "metadata": {
    "collapsed": false,
    "ExecuteTime": {
     "end_time": "2024-12-16T18:12:52.776517Z",
     "start_time": "2024-12-16T18:12:52.745335Z"
    }
   },
   "id": "959ea6caa5f569ed",
   "execution_count": 2
  },
  {
   "cell_type": "code",
   "outputs": [
    {
     "data": {
      "text/plain": "      id region_code code                                         name  \\\n0      1          84   01                                          Ain   \n1      2          32   02                                        Aisne   \n2      3          84   03                                       Allier   \n3      4          93   04                      Alpes-de-Haute-Provence   \n4      5          93   05                                 Hautes-Alpes   \n..   ...         ...  ...                                          ...   \n104  105         COM  984  Terres australes et antarctiques françaises   \n105  106         COM  986                             Wallis et Futuna   \n106  107         COM  987                          Polynésie française   \n107  108         COM  988                           Nouvelle-Calédonie   \n108  109         COM  989                            Île de Clipperton   \n\n                                            slug  \n0                                            ain  \n1                                          aisne  \n2                                         allier  \n3                        alpes de haute provence  \n4                                   hautes alpes  \n..                                           ...  \n104  terres australes et antarctiques francaises  \n105                             wallis et futuna  \n106                          polynesie francaise  \n107                           nouvelle caledonie  \n108                            ile de clipperton  \n\n[109 rows x 5 columns]",
      "text/html": "<div>\n<style scoped>\n    .dataframe tbody tr th:only-of-type {\n        vertical-align: middle;\n    }\n\n    .dataframe tbody tr th {\n        vertical-align: top;\n    }\n\n    .dataframe thead th {\n        text-align: right;\n    }\n</style>\n<table border=\"1\" class=\"dataframe\">\n  <thead>\n    <tr style=\"text-align: right;\">\n      <th></th>\n      <th>id</th>\n      <th>region_code</th>\n      <th>code</th>\n      <th>name</th>\n      <th>slug</th>\n    </tr>\n  </thead>\n  <tbody>\n    <tr>\n      <th>0</th>\n      <td>1</td>\n      <td>84</td>\n      <td>01</td>\n      <td>Ain</td>\n      <td>ain</td>\n    </tr>\n    <tr>\n      <th>1</th>\n      <td>2</td>\n      <td>32</td>\n      <td>02</td>\n      <td>Aisne</td>\n      <td>aisne</td>\n    </tr>\n    <tr>\n      <th>2</th>\n      <td>3</td>\n      <td>84</td>\n      <td>03</td>\n      <td>Allier</td>\n      <td>allier</td>\n    </tr>\n    <tr>\n      <th>3</th>\n      <td>4</td>\n      <td>93</td>\n      <td>04</td>\n      <td>Alpes-de-Haute-Provence</td>\n      <td>alpes de haute provence</td>\n    </tr>\n    <tr>\n      <th>4</th>\n      <td>5</td>\n      <td>93</td>\n      <td>05</td>\n      <td>Hautes-Alpes</td>\n      <td>hautes alpes</td>\n    </tr>\n    <tr>\n      <th>...</th>\n      <td>...</td>\n      <td>...</td>\n      <td>...</td>\n      <td>...</td>\n      <td>...</td>\n    </tr>\n    <tr>\n      <th>104</th>\n      <td>105</td>\n      <td>COM</td>\n      <td>984</td>\n      <td>Terres australes et antarctiques françaises</td>\n      <td>terres australes et antarctiques francaises</td>\n    </tr>\n    <tr>\n      <th>105</th>\n      <td>106</td>\n      <td>COM</td>\n      <td>986</td>\n      <td>Wallis et Futuna</td>\n      <td>wallis et futuna</td>\n    </tr>\n    <tr>\n      <th>106</th>\n      <td>107</td>\n      <td>COM</td>\n      <td>987</td>\n      <td>Polynésie française</td>\n      <td>polynesie francaise</td>\n    </tr>\n    <tr>\n      <th>107</th>\n      <td>108</td>\n      <td>COM</td>\n      <td>988</td>\n      <td>Nouvelle-Calédonie</td>\n      <td>nouvelle caledonie</td>\n    </tr>\n    <tr>\n      <th>108</th>\n      <td>109</td>\n      <td>COM</td>\n      <td>989</td>\n      <td>Île de Clipperton</td>\n      <td>ile de clipperton</td>\n    </tr>\n  </tbody>\n</table>\n<p>109 rows × 5 columns</p>\n</div>"
     },
     "execution_count": 142,
     "metadata": {},
     "output_type": "execute_result"
    }
   ],
   "source": [
    "departements"
   ],
   "metadata": {
    "collapsed": false,
    "ExecuteTime": {
     "end_time": "2024-12-16T15:26:18.985375Z",
     "start_time": "2024-12-16T15:26:18.960369Z"
    }
   },
   "id": "b8807238bce6f6f",
   "execution_count": 142
  },
  {
   "cell_type": "code",
   "outputs": [
    {
     "data": {
      "text/plain": "array(['84', '32', '93', '44', '76', '28', '75', '24', '27', '53', '94',\n       '52', '11', '01', '02', '03', '04', '06', 'COM'], dtype=object)"
     },
     "execution_count": 143,
     "metadata": {},
     "output_type": "execute_result"
    }
   ],
   "source": [
    "departements['region_code'].unique()"
   ],
   "metadata": {
    "collapsed": false,
    "ExecuteTime": {
     "end_time": "2024-12-16T15:26:19.191394Z",
     "start_time": "2024-12-16T15:26:19.182402Z"
    }
   },
   "id": "79786503b4573c5e",
   "execution_count": 143
  },
  {
   "cell_type": "code",
   "outputs": [
    {
     "data": {
      "text/plain": "    id code                        name                       slug\n0    1   01                  Guadeloupe                 guadeloupe\n1    2   02                  Martinique                 martinique\n2    3   03                      Guyane                     guyane\n3    4   04                  La Réunion                 la reunion\n4    5   06                     Mayotte                    mayotte\n5    6   11               Île-de-France              ile de france\n6    7   24         Centre-Val de Loire        centre val de loire\n7    8   27     Bourgogne-Franche-Comté    bourgogne franche comte\n8    9   28                   Normandie                  normandie\n9   10   32             Hauts-de-France            hauts de france\n10  11   44                   Grand Est                  grand est\n11  12   52            Pays de la Loire           pays de la loire\n12  13   53                    Bretagne                   bretagne\n13  14   75          Nouvelle-Aquitaine         nouvelle aquitaine\n14  15   76                   Occitanie                  occitanie\n15  16   84        Auvergne-Rhône-Alpes       auvergne rhone alpes\n16  17   93  Provence-Alpes-Côte d'Azur  provence alpes cote dazur\n17  18   94                       Corse                      corse\n18  19  COM   Collectivités d'Outre-Mer   collectivites doutre mer",
      "text/html": "<div>\n<style scoped>\n    .dataframe tbody tr th:only-of-type {\n        vertical-align: middle;\n    }\n\n    .dataframe tbody tr th {\n        vertical-align: top;\n    }\n\n    .dataframe thead th {\n        text-align: right;\n    }\n</style>\n<table border=\"1\" class=\"dataframe\">\n  <thead>\n    <tr style=\"text-align: right;\">\n      <th></th>\n      <th>id</th>\n      <th>code</th>\n      <th>name</th>\n      <th>slug</th>\n    </tr>\n  </thead>\n  <tbody>\n    <tr>\n      <th>0</th>\n      <td>1</td>\n      <td>01</td>\n      <td>Guadeloupe</td>\n      <td>guadeloupe</td>\n    </tr>\n    <tr>\n      <th>1</th>\n      <td>2</td>\n      <td>02</td>\n      <td>Martinique</td>\n      <td>martinique</td>\n    </tr>\n    <tr>\n      <th>2</th>\n      <td>3</td>\n      <td>03</td>\n      <td>Guyane</td>\n      <td>guyane</td>\n    </tr>\n    <tr>\n      <th>3</th>\n      <td>4</td>\n      <td>04</td>\n      <td>La Réunion</td>\n      <td>la reunion</td>\n    </tr>\n    <tr>\n      <th>4</th>\n      <td>5</td>\n      <td>06</td>\n      <td>Mayotte</td>\n      <td>mayotte</td>\n    </tr>\n    <tr>\n      <th>5</th>\n      <td>6</td>\n      <td>11</td>\n      <td>Île-de-France</td>\n      <td>ile de france</td>\n    </tr>\n    <tr>\n      <th>6</th>\n      <td>7</td>\n      <td>24</td>\n      <td>Centre-Val de Loire</td>\n      <td>centre val de loire</td>\n    </tr>\n    <tr>\n      <th>7</th>\n      <td>8</td>\n      <td>27</td>\n      <td>Bourgogne-Franche-Comté</td>\n      <td>bourgogne franche comte</td>\n    </tr>\n    <tr>\n      <th>8</th>\n      <td>9</td>\n      <td>28</td>\n      <td>Normandie</td>\n      <td>normandie</td>\n    </tr>\n    <tr>\n      <th>9</th>\n      <td>10</td>\n      <td>32</td>\n      <td>Hauts-de-France</td>\n      <td>hauts de france</td>\n    </tr>\n    <tr>\n      <th>10</th>\n      <td>11</td>\n      <td>44</td>\n      <td>Grand Est</td>\n      <td>grand est</td>\n    </tr>\n    <tr>\n      <th>11</th>\n      <td>12</td>\n      <td>52</td>\n      <td>Pays de la Loire</td>\n      <td>pays de la loire</td>\n    </tr>\n    <tr>\n      <th>12</th>\n      <td>13</td>\n      <td>53</td>\n      <td>Bretagne</td>\n      <td>bretagne</td>\n    </tr>\n    <tr>\n      <th>13</th>\n      <td>14</td>\n      <td>75</td>\n      <td>Nouvelle-Aquitaine</td>\n      <td>nouvelle aquitaine</td>\n    </tr>\n    <tr>\n      <th>14</th>\n      <td>15</td>\n      <td>76</td>\n      <td>Occitanie</td>\n      <td>occitanie</td>\n    </tr>\n    <tr>\n      <th>15</th>\n      <td>16</td>\n      <td>84</td>\n      <td>Auvergne-Rhône-Alpes</td>\n      <td>auvergne rhone alpes</td>\n    </tr>\n    <tr>\n      <th>16</th>\n      <td>17</td>\n      <td>93</td>\n      <td>Provence-Alpes-Côte d'Azur</td>\n      <td>provence alpes cote dazur</td>\n    </tr>\n    <tr>\n      <th>17</th>\n      <td>18</td>\n      <td>94</td>\n      <td>Corse</td>\n      <td>corse</td>\n    </tr>\n    <tr>\n      <th>18</th>\n      <td>19</td>\n      <td>COM</td>\n      <td>Collectivités d'Outre-Mer</td>\n      <td>collectivites doutre mer</td>\n    </tr>\n  </tbody>\n</table>\n</div>"
     },
     "execution_count": 144,
     "metadata": {},
     "output_type": "execute_result"
    }
   ],
   "source": [
    "regions"
   ],
   "metadata": {
    "collapsed": false,
    "ExecuteTime": {
     "end_time": "2024-12-16T15:26:19.363214Z",
     "start_time": "2024-12-16T15:26:19.344213Z"
    }
   },
   "id": "631b4b03d6f45b41",
   "execution_count": 144
  },
  {
   "cell_type": "code",
   "outputs": [
    {
     "data": {
      "text/plain": "array(['01', '02', '03', '04', '06', '11', '24', '27', '28', '32', '44',\n       '52', '53', '75', '76', '84', '93', '94', 'COM'], dtype=object)"
     },
     "execution_count": 145,
     "metadata": {},
     "output_type": "execute_result"
    }
   ],
   "source": [
    "regions['code'].unique()"
   ],
   "metadata": {
    "collapsed": false,
    "ExecuteTime": {
     "end_time": "2024-12-16T15:26:19.722894Z",
     "start_time": "2024-12-16T15:26:19.709359Z"
    }
   },
   "id": "fae1acba5570c017",
   "execution_count": 145
  },
  {
   "cell_type": "code",
   "outputs": [],
   "source": [
    "new_regions = regions.rename(columns={'code': 'code_reg', 'name': 'name_reg'})\n",
    "new_departments = departements.rename(columns={'code': 'code_dep', 'name': 'name_dep'})"
   ],
   "metadata": {
    "collapsed": false,
    "ExecuteTime": {
     "end_time": "2024-12-16T15:26:20.251465Z",
     "start_time": "2024-12-16T15:26:20.240464Z"
    }
   },
   "id": "f888a0b670978463",
   "execution_count": 146
  },
  {
   "cell_type": "code",
   "outputs": [
    {
     "data": {
      "text/plain": "      id region_code code_dep                                     name_dep  \\\n0      1          84       01                                          Ain   \n1      2          32       02                                        Aisne   \n2      3          84       03                                       Allier   \n3      4          93       04                      Alpes-de-Haute-Provence   \n4      5          93       05                                 Hautes-Alpes   \n..   ...         ...      ...                                          ...   \n104  105         COM      984  Terres australes et antarctiques françaises   \n105  106         COM      986                             Wallis et Futuna   \n106  107         COM      987                          Polynésie française   \n107  108         COM      988                           Nouvelle-Calédonie   \n108  109         COM      989                            Île de Clipperton   \n\n                                            slug  \n0                                            ain  \n1                                          aisne  \n2                                         allier  \n3                        alpes de haute provence  \n4                                   hautes alpes  \n..                                           ...  \n104  terres australes et antarctiques francaises  \n105                             wallis et futuna  \n106                          polynesie francaise  \n107                           nouvelle caledonie  \n108                            ile de clipperton  \n\n[109 rows x 5 columns]",
      "text/html": "<div>\n<style scoped>\n    .dataframe tbody tr th:only-of-type {\n        vertical-align: middle;\n    }\n\n    .dataframe tbody tr th {\n        vertical-align: top;\n    }\n\n    .dataframe thead th {\n        text-align: right;\n    }\n</style>\n<table border=\"1\" class=\"dataframe\">\n  <thead>\n    <tr style=\"text-align: right;\">\n      <th></th>\n      <th>id</th>\n      <th>region_code</th>\n      <th>code_dep</th>\n      <th>name_dep</th>\n      <th>slug</th>\n    </tr>\n  </thead>\n  <tbody>\n    <tr>\n      <th>0</th>\n      <td>1</td>\n      <td>84</td>\n      <td>01</td>\n      <td>Ain</td>\n      <td>ain</td>\n    </tr>\n    <tr>\n      <th>1</th>\n      <td>2</td>\n      <td>32</td>\n      <td>02</td>\n      <td>Aisne</td>\n      <td>aisne</td>\n    </tr>\n    <tr>\n      <th>2</th>\n      <td>3</td>\n      <td>84</td>\n      <td>03</td>\n      <td>Allier</td>\n      <td>allier</td>\n    </tr>\n    <tr>\n      <th>3</th>\n      <td>4</td>\n      <td>93</td>\n      <td>04</td>\n      <td>Alpes-de-Haute-Provence</td>\n      <td>alpes de haute provence</td>\n    </tr>\n    <tr>\n      <th>4</th>\n      <td>5</td>\n      <td>93</td>\n      <td>05</td>\n      <td>Hautes-Alpes</td>\n      <td>hautes alpes</td>\n    </tr>\n    <tr>\n      <th>...</th>\n      <td>...</td>\n      <td>...</td>\n      <td>...</td>\n      <td>...</td>\n      <td>...</td>\n    </tr>\n    <tr>\n      <th>104</th>\n      <td>105</td>\n      <td>COM</td>\n      <td>984</td>\n      <td>Terres australes et antarctiques françaises</td>\n      <td>terres australes et antarctiques francaises</td>\n    </tr>\n    <tr>\n      <th>105</th>\n      <td>106</td>\n      <td>COM</td>\n      <td>986</td>\n      <td>Wallis et Futuna</td>\n      <td>wallis et futuna</td>\n    </tr>\n    <tr>\n      <th>106</th>\n      <td>107</td>\n      <td>COM</td>\n      <td>987</td>\n      <td>Polynésie française</td>\n      <td>polynesie francaise</td>\n    </tr>\n    <tr>\n      <th>107</th>\n      <td>108</td>\n      <td>COM</td>\n      <td>988</td>\n      <td>Nouvelle-Calédonie</td>\n      <td>nouvelle caledonie</td>\n    </tr>\n    <tr>\n      <th>108</th>\n      <td>109</td>\n      <td>COM</td>\n      <td>989</td>\n      <td>Île de Clipperton</td>\n      <td>ile de clipperton</td>\n    </tr>\n  </tbody>\n</table>\n<p>109 rows × 5 columns</p>\n</div>"
     },
     "execution_count": 147,
     "metadata": {},
     "output_type": "execute_result"
    }
   ],
   "source": [
    "new_departments"
   ],
   "metadata": {
    "collapsed": false,
    "ExecuteTime": {
     "end_time": "2024-12-16T15:26:20.847087Z",
     "start_time": "2024-12-16T15:26:20.832090Z"
    }
   },
   "id": "9e282f01002fe574",
   "execution_count": 147
  },
  {
   "cell_type": "code",
   "outputs": [
    {
     "data": {
      "text/plain": "    id code_reg                    name_reg                       slug\n0    1       01                  Guadeloupe                 guadeloupe\n1    2       02                  Martinique                 martinique\n2    3       03                      Guyane                     guyane\n3    4       04                  La Réunion                 la reunion\n4    5       06                     Mayotte                    mayotte\n5    6       11               Île-de-France              ile de france\n6    7       24         Centre-Val de Loire        centre val de loire\n7    8       27     Bourgogne-Franche-Comté    bourgogne franche comte\n8    9       28                   Normandie                  normandie\n9   10       32             Hauts-de-France            hauts de france\n10  11       44                   Grand Est                  grand est\n11  12       52            Pays de la Loire           pays de la loire\n12  13       53                    Bretagne                   bretagne\n13  14       75          Nouvelle-Aquitaine         nouvelle aquitaine\n14  15       76                   Occitanie                  occitanie\n15  16       84        Auvergne-Rhône-Alpes       auvergne rhone alpes\n16  17       93  Provence-Alpes-Côte d'Azur  provence alpes cote dazur\n17  18       94                       Corse                      corse\n18  19      COM   Collectivités d'Outre-Mer   collectivites doutre mer",
      "text/html": "<div>\n<style scoped>\n    .dataframe tbody tr th:only-of-type {\n        vertical-align: middle;\n    }\n\n    .dataframe tbody tr th {\n        vertical-align: top;\n    }\n\n    .dataframe thead th {\n        text-align: right;\n    }\n</style>\n<table border=\"1\" class=\"dataframe\">\n  <thead>\n    <tr style=\"text-align: right;\">\n      <th></th>\n      <th>id</th>\n      <th>code_reg</th>\n      <th>name_reg</th>\n      <th>slug</th>\n    </tr>\n  </thead>\n  <tbody>\n    <tr>\n      <th>0</th>\n      <td>1</td>\n      <td>01</td>\n      <td>Guadeloupe</td>\n      <td>guadeloupe</td>\n    </tr>\n    <tr>\n      <th>1</th>\n      <td>2</td>\n      <td>02</td>\n      <td>Martinique</td>\n      <td>martinique</td>\n    </tr>\n    <tr>\n      <th>2</th>\n      <td>3</td>\n      <td>03</td>\n      <td>Guyane</td>\n      <td>guyane</td>\n    </tr>\n    <tr>\n      <th>3</th>\n      <td>4</td>\n      <td>04</td>\n      <td>La Réunion</td>\n      <td>la reunion</td>\n    </tr>\n    <tr>\n      <th>4</th>\n      <td>5</td>\n      <td>06</td>\n      <td>Mayotte</td>\n      <td>mayotte</td>\n    </tr>\n    <tr>\n      <th>5</th>\n      <td>6</td>\n      <td>11</td>\n      <td>Île-de-France</td>\n      <td>ile de france</td>\n    </tr>\n    <tr>\n      <th>6</th>\n      <td>7</td>\n      <td>24</td>\n      <td>Centre-Val de Loire</td>\n      <td>centre val de loire</td>\n    </tr>\n    <tr>\n      <th>7</th>\n      <td>8</td>\n      <td>27</td>\n      <td>Bourgogne-Franche-Comté</td>\n      <td>bourgogne franche comte</td>\n    </tr>\n    <tr>\n      <th>8</th>\n      <td>9</td>\n      <td>28</td>\n      <td>Normandie</td>\n      <td>normandie</td>\n    </tr>\n    <tr>\n      <th>9</th>\n      <td>10</td>\n      <td>32</td>\n      <td>Hauts-de-France</td>\n      <td>hauts de france</td>\n    </tr>\n    <tr>\n      <th>10</th>\n      <td>11</td>\n      <td>44</td>\n      <td>Grand Est</td>\n      <td>grand est</td>\n    </tr>\n    <tr>\n      <th>11</th>\n      <td>12</td>\n      <td>52</td>\n      <td>Pays de la Loire</td>\n      <td>pays de la loire</td>\n    </tr>\n    <tr>\n      <th>12</th>\n      <td>13</td>\n      <td>53</td>\n      <td>Bretagne</td>\n      <td>bretagne</td>\n    </tr>\n    <tr>\n      <th>13</th>\n      <td>14</td>\n      <td>75</td>\n      <td>Nouvelle-Aquitaine</td>\n      <td>nouvelle aquitaine</td>\n    </tr>\n    <tr>\n      <th>14</th>\n      <td>15</td>\n      <td>76</td>\n      <td>Occitanie</td>\n      <td>occitanie</td>\n    </tr>\n    <tr>\n      <th>15</th>\n      <td>16</td>\n      <td>84</td>\n      <td>Auvergne-Rhône-Alpes</td>\n      <td>auvergne rhone alpes</td>\n    </tr>\n    <tr>\n      <th>16</th>\n      <td>17</td>\n      <td>93</td>\n      <td>Provence-Alpes-Côte d'Azur</td>\n      <td>provence alpes cote dazur</td>\n    </tr>\n    <tr>\n      <th>17</th>\n      <td>18</td>\n      <td>94</td>\n      <td>Corse</td>\n      <td>corse</td>\n    </tr>\n    <tr>\n      <th>18</th>\n      <td>19</td>\n      <td>COM</td>\n      <td>Collectivités d'Outre-Mer</td>\n      <td>collectivites doutre mer</td>\n    </tr>\n  </tbody>\n</table>\n</div>"
     },
     "execution_count": 148,
     "metadata": {},
     "output_type": "execute_result"
    }
   ],
   "source": [
    "new_regions"
   ],
   "metadata": {
    "collapsed": false,
    "ExecuteTime": {
     "end_time": "2024-12-16T15:26:21.728644Z",
     "start_time": "2024-12-16T15:26:21.718096Z"
    }
   },
   "id": "13ed1cbe7bd8959e",
   "execution_count": 148
  },
  {
   "cell_type": "code",
   "outputs": [
    {
     "data": {
      "text/plain": "    code_reg    name_reg code_dep                                     name_dep\n0         01  Guadeloupe       01                                          Ain\n1         02  Martinique       02                                        Aisne\n2         03      Guyane       03                                       Allier\n3         04  La Réunion       04                      Alpes-de-Haute-Provence\n4         06     Mayotte       05                                 Hautes-Alpes\n..       ...         ...      ...                                          ...\n104      NaN         NaN      984  Terres australes et antarctiques françaises\n105      NaN         NaN      986                             Wallis et Futuna\n106      NaN         NaN      987                          Polynésie française\n107      NaN         NaN      988                           Nouvelle-Calédonie\n108      NaN         NaN      989                            Île de Clipperton\n\n[109 rows x 4 columns]",
      "text/html": "<div>\n<style scoped>\n    .dataframe tbody tr th:only-of-type {\n        vertical-align: middle;\n    }\n\n    .dataframe tbody tr th {\n        vertical-align: top;\n    }\n\n    .dataframe thead th {\n        text-align: right;\n    }\n</style>\n<table border=\"1\" class=\"dataframe\">\n  <thead>\n    <tr style=\"text-align: right;\">\n      <th></th>\n      <th>code_reg</th>\n      <th>name_reg</th>\n      <th>code_dep</th>\n      <th>name_dep</th>\n    </tr>\n  </thead>\n  <tbody>\n    <tr>\n      <th>0</th>\n      <td>01</td>\n      <td>Guadeloupe</td>\n      <td>01</td>\n      <td>Ain</td>\n    </tr>\n    <tr>\n      <th>1</th>\n      <td>02</td>\n      <td>Martinique</td>\n      <td>02</td>\n      <td>Aisne</td>\n    </tr>\n    <tr>\n      <th>2</th>\n      <td>03</td>\n      <td>Guyane</td>\n      <td>03</td>\n      <td>Allier</td>\n    </tr>\n    <tr>\n      <th>3</th>\n      <td>04</td>\n      <td>La Réunion</td>\n      <td>04</td>\n      <td>Alpes-de-Haute-Provence</td>\n    </tr>\n    <tr>\n      <th>4</th>\n      <td>06</td>\n      <td>Mayotte</td>\n      <td>05</td>\n      <td>Hautes-Alpes</td>\n    </tr>\n    <tr>\n      <th>...</th>\n      <td>...</td>\n      <td>...</td>\n      <td>...</td>\n      <td>...</td>\n    </tr>\n    <tr>\n      <th>104</th>\n      <td>NaN</td>\n      <td>NaN</td>\n      <td>984</td>\n      <td>Terres australes et antarctiques françaises</td>\n    </tr>\n    <tr>\n      <th>105</th>\n      <td>NaN</td>\n      <td>NaN</td>\n      <td>986</td>\n      <td>Wallis et Futuna</td>\n    </tr>\n    <tr>\n      <th>106</th>\n      <td>NaN</td>\n      <td>NaN</td>\n      <td>987</td>\n      <td>Polynésie française</td>\n    </tr>\n    <tr>\n      <th>107</th>\n      <td>NaN</td>\n      <td>NaN</td>\n      <td>988</td>\n      <td>Nouvelle-Calédonie</td>\n    </tr>\n    <tr>\n      <th>108</th>\n      <td>NaN</td>\n      <td>NaN</td>\n      <td>989</td>\n      <td>Île de Clipperton</td>\n    </tr>\n  </tbody>\n</table>\n<p>109 rows × 4 columns</p>\n</div>"
     },
     "execution_count": 149,
     "metadata": {},
     "output_type": "execute_result"
    }
   ],
   "source": [
    "new_regions = new_regions[['code_reg', 'name_reg']]\n",
    "new_departments = new_departments[['code_dep', 'name_dep']]\n",
    "dep_reg = pd.concat([new_regions, new_departments], axis=1)\n",
    "dep_reg"
   ],
   "metadata": {
    "collapsed": false,
    "ExecuteTime": {
     "end_time": "2024-12-16T15:26:22.448831Z",
     "start_time": "2024-12-16T15:26:22.422838Z"
    }
   },
   "id": "d74d8b80a38478ec",
   "execution_count": 149
  },
  {
   "cell_type": "code",
   "outputs": [
    {
     "data": {
      "text/plain": "array(['01', '02', '03', '04', '05', '06', '07', '08', '09', '10', '11',\n       '12', '13', '14', '15', '16', '17', '18', '19', '21', '22', '23',\n       '24', '25', '26', '27', '28', '29', '2A', '2B', '30', '31', '32',\n       '33', '34', '35', '36', '37', '38', '39', '40', '41', '42', '43',\n       '44', '45', '46', '47', '48', '49', '50', '51', '52', '53', '54',\n       '55', '56', '57', '58', '59', '60', '61', '62', '63', '64', '65',\n       '66', '67', '68', '69', '70', '71', '72', '73', '74', '75', '76',\n       '77', '78', '79', '80', '81', '82', '83', '84', '85', '86', '87',\n       '88', '89', '90', '91', '92', '93', '94', '95', '971', '972',\n       '973', '974', '976', '975', '977', '978', '984', '986', '987',\n       '988', '989'], dtype=object)"
     },
     "execution_count": 131,
     "metadata": {},
     "output_type": "execute_result"
    }
   ],
   "source": [
    "dep_reg['code_dep'].unique()"
   ],
   "metadata": {
    "collapsed": false,
    "ExecuteTime": {
     "end_time": "2024-12-16T15:23:12.821438Z",
     "start_time": "2024-12-16T15:23:12.806415Z"
    }
   },
   "id": "ed3dad62fa390ff7",
   "execution_count": 131
  },
  {
   "cell_type": "code",
   "outputs": [
    {
     "data": {
      "text/plain": "      Department code         Department name  Town code  \\\n0                   1                     AIN          1   \n1                   1                     AIN          2   \n2                   1                     AIN          4   \n3                   1                     AIN          5   \n4                   1                     AIN          6   \n...               ...                     ...        ...   \n36786              ZZ  FRANCAIS DE L'ETRANGER          7   \n36787              ZZ  FRANCAIS DE L'ETRANGER          8   \n36788              ZZ  FRANCAIS DE L'ETRANGER          9   \n36789              ZZ  FRANCAIS DE L'ETRANGER         10   \n36790              ZZ  FRANCAIS DE L'ETRANGER         11   \n\n                            Town name  Registered  Abstentions  Null  \\\n0             L'Abergement-Clémenciat         592           84     9   \n1               L'Abergement-de-Varey         215           36     5   \n2                   Ambérieu-en-Bugey        8205         1698   126   \n3                 Ambérieux-en-Dombes        1152          170    18   \n4                             Ambléon         105           17     1   \n...                               ...         ...          ...   ...   \n36786                 Europe centrale       89643        54981   318   \n36787  Europe du Sud, Turquie, Israël      109763        84466   292   \n36788              Afrique Nord-Ouest       98997        59887   321   \n36789      Afrique Centre, Sud et Est       89859        46782   566   \n36790  Europe de l'est, Asie, Océanie       80061        42911   488   \n\n       Choice A  Choice B  \n0           154       345  \n1            66       108  \n2          2717      3664  \n3           280       684  \n4            35        52  \n...         ...       ...  \n36786     17055     17289  \n36787      9299     15706  \n36788     22116     16673  \n36789     17008     25503  \n36790     13975     22687  \n\n[36791 rows x 9 columns]",
      "text/html": "<div>\n<style scoped>\n    .dataframe tbody tr th:only-of-type {\n        vertical-align: middle;\n    }\n\n    .dataframe tbody tr th {\n        vertical-align: top;\n    }\n\n    .dataframe thead th {\n        text-align: right;\n    }\n</style>\n<table border=\"1\" class=\"dataframe\">\n  <thead>\n    <tr style=\"text-align: right;\">\n      <th></th>\n      <th>Department code</th>\n      <th>Department name</th>\n      <th>Town code</th>\n      <th>Town name</th>\n      <th>Registered</th>\n      <th>Abstentions</th>\n      <th>Null</th>\n      <th>Choice A</th>\n      <th>Choice B</th>\n    </tr>\n  </thead>\n  <tbody>\n    <tr>\n      <th>0</th>\n      <td>1</td>\n      <td>AIN</td>\n      <td>1</td>\n      <td>L'Abergement-Clémenciat</td>\n      <td>592</td>\n      <td>84</td>\n      <td>9</td>\n      <td>154</td>\n      <td>345</td>\n    </tr>\n    <tr>\n      <th>1</th>\n      <td>1</td>\n      <td>AIN</td>\n      <td>2</td>\n      <td>L'Abergement-de-Varey</td>\n      <td>215</td>\n      <td>36</td>\n      <td>5</td>\n      <td>66</td>\n      <td>108</td>\n    </tr>\n    <tr>\n      <th>2</th>\n      <td>1</td>\n      <td>AIN</td>\n      <td>4</td>\n      <td>Ambérieu-en-Bugey</td>\n      <td>8205</td>\n      <td>1698</td>\n      <td>126</td>\n      <td>2717</td>\n      <td>3664</td>\n    </tr>\n    <tr>\n      <th>3</th>\n      <td>1</td>\n      <td>AIN</td>\n      <td>5</td>\n      <td>Ambérieux-en-Dombes</td>\n      <td>1152</td>\n      <td>170</td>\n      <td>18</td>\n      <td>280</td>\n      <td>684</td>\n    </tr>\n    <tr>\n      <th>4</th>\n      <td>1</td>\n      <td>AIN</td>\n      <td>6</td>\n      <td>Ambléon</td>\n      <td>105</td>\n      <td>17</td>\n      <td>1</td>\n      <td>35</td>\n      <td>52</td>\n    </tr>\n    <tr>\n      <th>...</th>\n      <td>...</td>\n      <td>...</td>\n      <td>...</td>\n      <td>...</td>\n      <td>...</td>\n      <td>...</td>\n      <td>...</td>\n      <td>...</td>\n      <td>...</td>\n    </tr>\n    <tr>\n      <th>36786</th>\n      <td>ZZ</td>\n      <td>FRANCAIS DE L'ETRANGER</td>\n      <td>7</td>\n      <td>Europe centrale</td>\n      <td>89643</td>\n      <td>54981</td>\n      <td>318</td>\n      <td>17055</td>\n      <td>17289</td>\n    </tr>\n    <tr>\n      <th>36787</th>\n      <td>ZZ</td>\n      <td>FRANCAIS DE L'ETRANGER</td>\n      <td>8</td>\n      <td>Europe du Sud, Turquie, Israël</td>\n      <td>109763</td>\n      <td>84466</td>\n      <td>292</td>\n      <td>9299</td>\n      <td>15706</td>\n    </tr>\n    <tr>\n      <th>36788</th>\n      <td>ZZ</td>\n      <td>FRANCAIS DE L'ETRANGER</td>\n      <td>9</td>\n      <td>Afrique Nord-Ouest</td>\n      <td>98997</td>\n      <td>59887</td>\n      <td>321</td>\n      <td>22116</td>\n      <td>16673</td>\n    </tr>\n    <tr>\n      <th>36789</th>\n      <td>ZZ</td>\n      <td>FRANCAIS DE L'ETRANGER</td>\n      <td>10</td>\n      <td>Afrique Centre, Sud et Est</td>\n      <td>89859</td>\n      <td>46782</td>\n      <td>566</td>\n      <td>17008</td>\n      <td>25503</td>\n    </tr>\n    <tr>\n      <th>36790</th>\n      <td>ZZ</td>\n      <td>FRANCAIS DE L'ETRANGER</td>\n      <td>11</td>\n      <td>Europe de l'est, Asie, Océanie</td>\n      <td>80061</td>\n      <td>42911</td>\n      <td>488</td>\n      <td>13975</td>\n      <td>22687</td>\n    </tr>\n  </tbody>\n</table>\n<p>36791 rows × 9 columns</p>\n</div>"
     },
     "execution_count": 5,
     "metadata": {},
     "output_type": "execute_result"
    }
   ],
   "source": [
    "referendum = pd.read_csv('data/referendum.csv', sep=';')\n",
    "referendum"
   ],
   "metadata": {
    "collapsed": false,
    "ExecuteTime": {
     "end_time": "2024-12-16T18:13:47.371544Z",
     "start_time": "2024-12-16T18:13:47.282994Z"
    }
   },
   "id": "e0dfc4c5e979c2e8",
   "execution_count": 5
  },
  {
   "cell_type": "code",
   "outputs": [
    {
     "name": "stdout",
     "output_type": "stream",
     "text": [
      "<class 'pandas.core.frame.DataFrame'>\n",
      "RangeIndex: 36791 entries, 0 to 36790\n",
      "Data columns (total 9 columns):\n",
      " #   Column           Non-Null Count  Dtype \n",
      "---  ------           --------------  ----- \n",
      " 0   Department code  36791 non-null  object\n",
      " 1   Department name  36791 non-null  object\n",
      " 2   Town code        36791 non-null  int64 \n",
      " 3   Town name        36791 non-null  object\n",
      " 4   Registered       36791 non-null  int64 \n",
      " 5   Abstentions      36791 non-null  int64 \n",
      " 6   Null             36791 non-null  int64 \n",
      " 7   Choice A         36791 non-null  int64 \n",
      " 8   Choice B         36791 non-null  int64 \n",
      "dtypes: int64(6), object(3)\n",
      "memory usage: 2.5+ MB\n"
     ]
    }
   ],
   "source": [
    "referendum.info()"
   ],
   "metadata": {
    "collapsed": false,
    "ExecuteTime": {
     "end_time": "2024-12-16T14:56:35.289157Z",
     "start_time": "2024-12-16T14:56:35.267619Z"
    }
   },
   "id": "4ced128beca9646b",
   "execution_count": 110
  },
  {
   "cell_type": "code",
   "outputs": [
    {
     "data": {
      "text/plain": "(36791, 9)"
     },
     "execution_count": 88,
     "metadata": {},
     "output_type": "execute_result"
    }
   ],
   "source": [
    "referendum.shape"
   ],
   "metadata": {
    "collapsed": false,
    "ExecuteTime": {
     "end_time": "2024-12-16T14:41:06.486194Z",
     "start_time": "2024-12-16T14:41:06.472166Z"
    }
   },
   "id": "170806f5e0354045",
   "execution_count": 88
  },
  {
   "cell_type": "code",
   "outputs": [
    {
     "data": {
      "text/plain": "Department name\nPAS DE CALAIS                    895\nAISNE                            816\nSOMME                            782\nSEINE MARITIME                   744\nMOSELLE                          730\n                                ... \nFRANCAIS DE L'ETRANGER            11\nSAINT PIERRE ET MIQUELON           2\nSAINT-MARTIN/SAINT-BARTHELEMY      2\nPARIS                              1\nWALLIS-ET-FUTUNA                   1\nName: count, Length: 107, dtype: int64"
     },
     "execution_count": 102,
     "metadata": {},
     "output_type": "execute_result"
    }
   ],
   "source": [
    "referendum['Department name'].value_counts(sort=True)"
   ],
   "metadata": {
    "collapsed": false,
    "ExecuteTime": {
     "end_time": "2024-12-16T14:50:00.649116Z",
     "start_time": "2024-12-16T14:50:00.634571Z"
    }
   },
   "id": "bec6771c7106635e",
   "execution_count": 102
  },
  {
   "cell_type": "code",
   "outputs": [
    {
     "data": {
      "text/plain": "(36791, 9)"
     },
     "execution_count": 57,
     "metadata": {},
     "output_type": "execute_result"
    }
   ],
   "source": [
    "referendum.dropna().shape"
   ],
   "metadata": {
    "collapsed": false,
    "ExecuteTime": {
     "end_time": "2024-12-16T14:05:50.128803Z",
     "start_time": "2024-12-16T14:05:50.114804Z"
    }
   },
   "id": "3f9dd6ea568da54b",
   "execution_count": 57
  },
  {
   "cell_type": "code",
   "outputs": [],
   "source": [
    "reg_dep = dep_reg[~dep_reg['name_reg'].isin(['Martinique', 'Guadeloupe', 'Guyane',\n",
    "                                                                                 'La Réunion', 'Mayotte', \"Collectivités d'Outre-Mer\",\n",
    "                                                                                 \"FRANCAIS DE L'ETRANGER\", \"SAINT PIERRE ET MIQUELON\",\n",
    "                                                                                 \"WALLIS-ET-FUTUNA\", \"SAINT-MARTIN/SAINT-BARTHELEMY\",\n",
    "                                                                                 \"NOUVELLE CALEDONIE\", \"POLYNESIE FRANCAISE\"])]\n",
    "referendum = referendum.rename(columns={'Department code': 'code_dep'})\n",
    "referendum['code_dep'] = referendum['code_dep'].apply(\n",
    "    lambda x: f\"{int(x):02d}\" if str(x).isdigit() and 1 <= int(x) <= 9 else x)"
   ],
   "metadata": {
    "collapsed": false,
    "ExecuteTime": {
     "end_time": "2024-12-16T15:09:05.526394Z",
     "start_time": "2024-12-16T15:09:05.498392Z"
    }
   },
   "id": "a619d4924b66a0b2",
   "execution_count": 123
  },
  {
   "cell_type": "code",
   "outputs": [
    {
     "data": {
      "text/plain": "      Department code         Department name  Town code  \\\n0                   1                     AIN          1   \n1                   1                     AIN          2   \n2                   1                     AIN          4   \n3                   1                     AIN          5   \n4                   1                     AIN          6   \n...               ...                     ...        ...   \n36786              ZZ  FRANCAIS DE L'ETRANGER          7   \n36787              ZZ  FRANCAIS DE L'ETRANGER          8   \n36788              ZZ  FRANCAIS DE L'ETRANGER          9   \n36789              ZZ  FRANCAIS DE L'ETRANGER         10   \n36790              ZZ  FRANCAIS DE L'ETRANGER         11   \n\n                            Town name  Registered  Abstentions  Null  \\\n0             L'Abergement-Clémenciat         592           84     9   \n1               L'Abergement-de-Varey         215           36     5   \n2                   Ambérieu-en-Bugey        8205         1698   126   \n3                 Ambérieux-en-Dombes        1152          170    18   \n4                             Ambléon         105           17     1   \n...                               ...         ...          ...   ...   \n36786                 Europe centrale       89643        54981   318   \n36787  Europe du Sud, Turquie, Israël      109763        84466   292   \n36788              Afrique Nord-Ouest       98997        59887   321   \n36789      Afrique Centre, Sud et Est       89859        46782   566   \n36790  Europe de l'est, Asie, Océanie       80061        42911   488   \n\n       Choice A  Choice B  \n0           154       345  \n1            66       108  \n2          2717      3664  \n3           280       684  \n4            35        52  \n...         ...       ...  \n36786     17055     17289  \n36787      9299     15706  \n36788     22116     16673  \n36789     17008     25503  \n36790     13975     22687  \n\n[36791 rows x 9 columns]",
      "text/html": "<div>\n<style scoped>\n    .dataframe tbody tr th:only-of-type {\n        vertical-align: middle;\n    }\n\n    .dataframe tbody tr th {\n        vertical-align: top;\n    }\n\n    .dataframe thead th {\n        text-align: right;\n    }\n</style>\n<table border=\"1\" class=\"dataframe\">\n  <thead>\n    <tr style=\"text-align: right;\">\n      <th></th>\n      <th>Department code</th>\n      <th>Department name</th>\n      <th>Town code</th>\n      <th>Town name</th>\n      <th>Registered</th>\n      <th>Abstentions</th>\n      <th>Null</th>\n      <th>Choice A</th>\n      <th>Choice B</th>\n    </tr>\n  </thead>\n  <tbody>\n    <tr>\n      <th>0</th>\n      <td>1</td>\n      <td>AIN</td>\n      <td>1</td>\n      <td>L'Abergement-Clémenciat</td>\n      <td>592</td>\n      <td>84</td>\n      <td>9</td>\n      <td>154</td>\n      <td>345</td>\n    </tr>\n    <tr>\n      <th>1</th>\n      <td>1</td>\n      <td>AIN</td>\n      <td>2</td>\n      <td>L'Abergement-de-Varey</td>\n      <td>215</td>\n      <td>36</td>\n      <td>5</td>\n      <td>66</td>\n      <td>108</td>\n    </tr>\n    <tr>\n      <th>2</th>\n      <td>1</td>\n      <td>AIN</td>\n      <td>4</td>\n      <td>Ambérieu-en-Bugey</td>\n      <td>8205</td>\n      <td>1698</td>\n      <td>126</td>\n      <td>2717</td>\n      <td>3664</td>\n    </tr>\n    <tr>\n      <th>3</th>\n      <td>1</td>\n      <td>AIN</td>\n      <td>5</td>\n      <td>Ambérieux-en-Dombes</td>\n      <td>1152</td>\n      <td>170</td>\n      <td>18</td>\n      <td>280</td>\n      <td>684</td>\n    </tr>\n    <tr>\n      <th>4</th>\n      <td>1</td>\n      <td>AIN</td>\n      <td>6</td>\n      <td>Ambléon</td>\n      <td>105</td>\n      <td>17</td>\n      <td>1</td>\n      <td>35</td>\n      <td>52</td>\n    </tr>\n    <tr>\n      <th>...</th>\n      <td>...</td>\n      <td>...</td>\n      <td>...</td>\n      <td>...</td>\n      <td>...</td>\n      <td>...</td>\n      <td>...</td>\n      <td>...</td>\n      <td>...</td>\n    </tr>\n    <tr>\n      <th>36786</th>\n      <td>ZZ</td>\n      <td>FRANCAIS DE L'ETRANGER</td>\n      <td>7</td>\n      <td>Europe centrale</td>\n      <td>89643</td>\n      <td>54981</td>\n      <td>318</td>\n      <td>17055</td>\n      <td>17289</td>\n    </tr>\n    <tr>\n      <th>36787</th>\n      <td>ZZ</td>\n      <td>FRANCAIS DE L'ETRANGER</td>\n      <td>8</td>\n      <td>Europe du Sud, Turquie, Israël</td>\n      <td>109763</td>\n      <td>84466</td>\n      <td>292</td>\n      <td>9299</td>\n      <td>15706</td>\n    </tr>\n    <tr>\n      <th>36788</th>\n      <td>ZZ</td>\n      <td>FRANCAIS DE L'ETRANGER</td>\n      <td>9</td>\n      <td>Afrique Nord-Ouest</td>\n      <td>98997</td>\n      <td>59887</td>\n      <td>321</td>\n      <td>22116</td>\n      <td>16673</td>\n    </tr>\n    <tr>\n      <th>36789</th>\n      <td>ZZ</td>\n      <td>FRANCAIS DE L'ETRANGER</td>\n      <td>10</td>\n      <td>Afrique Centre, Sud et Est</td>\n      <td>89859</td>\n      <td>46782</td>\n      <td>566</td>\n      <td>17008</td>\n      <td>25503</td>\n    </tr>\n    <tr>\n      <th>36790</th>\n      <td>ZZ</td>\n      <td>FRANCAIS DE L'ETRANGER</td>\n      <td>11</td>\n      <td>Europe de l'est, Asie, Océanie</td>\n      <td>80061</td>\n      <td>42911</td>\n      <td>488</td>\n      <td>13975</td>\n      <td>22687</td>\n    </tr>\n  </tbody>\n</table>\n<p>36791 rows × 9 columns</p>\n</div>"
     },
     "execution_count": 126,
     "metadata": {},
     "output_type": "execute_result"
    }
   ],
   "source": [
    "referendum"
   ],
   "metadata": {
    "collapsed": false,
    "ExecuteTime": {
     "end_time": "2024-12-16T15:14:01.056316Z",
     "start_time": "2024-12-16T15:14:01.035319Z"
    }
   },
   "id": "449bb83f32469f02",
   "execution_count": 126
  },
  {
   "cell_type": "code",
   "outputs": [],
   "source": [
    "merge_df = pd.merge(referendum, reg_dep, on='code_dep', how='left')\n",
    "merge_df['name_reg'].value_counts()"
   ],
   "metadata": {
    "collapsed": false
   },
   "id": "bf499e45ceb95f90"
  },
  {
   "cell_type": "code",
   "outputs": [
    {
     "name": "stdout",
     "output_type": "stream",
     "text": [
      "<class 'pandas.core.frame.DataFrame'>\n",
      "RangeIndex: 36791 entries, 0 to 36790\n",
      "Data columns (total 12 columns):\n",
      " #   Column           Non-Null Count  Dtype \n",
      "---  ------           --------------  ----- \n",
      " 0   code_dep         36791 non-null  object\n",
      " 1   Department name  36791 non-null  object\n",
      " 2   Town code        36791 non-null  int64 \n",
      " 3   Town name        36791 non-null  object\n",
      " 4   Registered       36791 non-null  int64 \n",
      " 5   Abstentions      36791 non-null  int64 \n",
      " 6   Null             36791 non-null  int64 \n",
      " 7   Choice A         36791 non-null  int64 \n",
      " 8   Choice B         36791 non-null  int64 \n",
      " 9   code_reg         4723 non-null   object\n",
      " 10  name_reg         4723 non-null   object\n",
      " 11  name_dep         34347 non-null  object\n",
      "dtypes: int64(6), object(6)\n",
      "memory usage: 3.4+ MB\n"
     ]
    }
   ],
   "source": [
    "merge_df.info()"
   ],
   "metadata": {
    "collapsed": false,
    "ExecuteTime": {
     "end_time": "2024-12-16T15:04:48.414252Z",
     "start_time": "2024-12-16T15:04:48.387417Z"
    }
   },
   "id": "e696c747bd170d81",
   "execution_count": 118
  },
  {
   "cell_type": "code",
   "outputs": [
    {
     "data": {
      "text/plain": "code_reg\n75    706\n93    472\n27    463\n44    438\n32    433\n84    404\n24    339\n28    332\n52    304\n94    290\n76    260\n11    163\n53    119\nName: count, dtype: int64"
     },
     "execution_count": 120,
     "metadata": {},
     "output_type": "execute_result"
    }
   ],
   "source": [
    "merge_df['code_reg'].value_counts()"
   ],
   "metadata": {
    "collapsed": false,
    "ExecuteTime": {
     "end_time": "2024-12-16T15:05:13.117805Z",
     "start_time": "2024-12-16T15:05:13.098806Z"
    }
   },
   "id": "fb79987ace1dfcfe",
   "execution_count": 120
  },
  {
   "cell_type": "code",
   "outputs": [
    {
     "data": {
      "text/plain": "name_reg\nGuadeloupe                    1\nGrand Est                     1\nCorse                         1\nProvence-Alpes-Côte d'Azur    1\nAuvergne-Rhône-Alpes          1\nOccitanie                     1\nNouvelle-Aquitaine            1\nBretagne                      1\nPays de la Loire              1\nHauts-de-France               1\nMartinique                    1\nNormandie                     1\nBourgogne-Franche-Comté       1\nCentre-Val de Loire           1\nÎle-de-France                 1\nMayotte                       1\nLa Réunion                    1\nGuyane                        1\nCollectivités d'Outre-Mer     1\nName: count, dtype: int64"
     },
     "execution_count": 80,
     "metadata": {},
     "output_type": "execute_result"
    }
   ],
   "source": [
    "dep_reg['name_reg'].value_counts()"
   ],
   "metadata": {
    "collapsed": false,
    "ExecuteTime": {
     "end_time": "2024-12-16T14:25:43.863385Z",
     "start_time": "2024-12-16T14:25:43.856393Z"
    }
   },
   "id": "8b08326aba3765c6",
   "execution_count": 80
  },
  {
   "cell_type": "code",
   "outputs": [
    {
     "data": {
      "text/plain": "(3426, 12)"
     },
     "execution_count": 86,
     "metadata": {},
     "output_type": "execute_result"
    }
   ],
   "source": [
    "merge_df.dropna().shape"
   ],
   "metadata": {
    "collapsed": false,
    "ExecuteTime": {
     "end_time": "2024-12-16T14:30:29.453013Z",
     "start_time": "2024-12-16T14:30:29.438995Z"
    }
   },
   "id": "991741480c281153",
   "execution_count": 86
  },
  {
   "cell_type": "code",
   "outputs": [
    {
     "data": {
      "text/plain": "Index(['code_dep', 'Department name', 'Town code', 'Town name', 'Registered',\n       'Abstentions', 'Null', 'Choice A', 'Choice B', 'code_reg', 'name_reg',\n       'name_dep'],\n      dtype='object')"
     },
     "execution_count": 87,
     "metadata": {},
     "output_type": "execute_result"
    }
   ],
   "source": [
    "merge_df.columns"
   ],
   "metadata": {
    "collapsed": false,
    "ExecuteTime": {
     "end_time": "2024-12-16T14:33:31.708844Z",
     "start_time": "2024-12-16T14:33:31.694818Z"
    }
   },
   "id": "86562d9023f9620f",
   "execution_count": 87
  },
  {
   "cell_type": "code",
   "outputs": [
    {
     "data": {
      "text/plain": "    code_reg                   name_reg code_dep  \\\n0         01                 Guadeloupe      971   \n1         02                 Martinique      972   \n2         03                     Guyane      973   \n3         04                 La Réunion      974   \n4         06                    Mayotte      976   \n..       ...                        ...      ...   \n104      COM  Collectivités d'Outre-Mer      984   \n105      COM  Collectivités d'Outre-Mer      986   \n106      COM  Collectivités d'Outre-Mer      987   \n107      COM  Collectivités d'Outre-Mer      988   \n108      COM  Collectivités d'Outre-Mer      989   \n\n                                        name_dep  \n0                                     Guadeloupe  \n1                                     Martinique  \n2                                         Guyane  \n3                                     La Réunion  \n4                                        Mayotte  \n..                                           ...  \n104  Terres australes et antarctiques françaises  \n105                             Wallis et Futuna  \n106                          Polynésie française  \n107                           Nouvelle-Calédonie  \n108                            Île de Clipperton  \n\n[109 rows x 4 columns]",
      "text/html": "<div>\n<style scoped>\n    .dataframe tbody tr th:only-of-type {\n        vertical-align: middle;\n    }\n\n    .dataframe tbody tr th {\n        vertical-align: top;\n    }\n\n    .dataframe thead th {\n        text-align: right;\n    }\n</style>\n<table border=\"1\" class=\"dataframe\">\n  <thead>\n    <tr style=\"text-align: right;\">\n      <th></th>\n      <th>code_reg</th>\n      <th>name_reg</th>\n      <th>code_dep</th>\n      <th>name_dep</th>\n    </tr>\n  </thead>\n  <tbody>\n    <tr>\n      <th>0</th>\n      <td>01</td>\n      <td>Guadeloupe</td>\n      <td>971</td>\n      <td>Guadeloupe</td>\n    </tr>\n    <tr>\n      <th>1</th>\n      <td>02</td>\n      <td>Martinique</td>\n      <td>972</td>\n      <td>Martinique</td>\n    </tr>\n    <tr>\n      <th>2</th>\n      <td>03</td>\n      <td>Guyane</td>\n      <td>973</td>\n      <td>Guyane</td>\n    </tr>\n    <tr>\n      <th>3</th>\n      <td>04</td>\n      <td>La Réunion</td>\n      <td>974</td>\n      <td>La Réunion</td>\n    </tr>\n    <tr>\n      <th>4</th>\n      <td>06</td>\n      <td>Mayotte</td>\n      <td>976</td>\n      <td>Mayotte</td>\n    </tr>\n    <tr>\n      <th>...</th>\n      <td>...</td>\n      <td>...</td>\n      <td>...</td>\n      <td>...</td>\n    </tr>\n    <tr>\n      <th>104</th>\n      <td>COM</td>\n      <td>Collectivités d'Outre-Mer</td>\n      <td>984</td>\n      <td>Terres australes et antarctiques françaises</td>\n    </tr>\n    <tr>\n      <th>105</th>\n      <td>COM</td>\n      <td>Collectivités d'Outre-Mer</td>\n      <td>986</td>\n      <td>Wallis et Futuna</td>\n    </tr>\n    <tr>\n      <th>106</th>\n      <td>COM</td>\n      <td>Collectivités d'Outre-Mer</td>\n      <td>987</td>\n      <td>Polynésie française</td>\n    </tr>\n    <tr>\n      <th>107</th>\n      <td>COM</td>\n      <td>Collectivités d'Outre-Mer</td>\n      <td>988</td>\n      <td>Nouvelle-Calédonie</td>\n    </tr>\n    <tr>\n      <th>108</th>\n      <td>COM</td>\n      <td>Collectivités d'Outre-Mer</td>\n      <td>989</td>\n      <td>Île de Clipperton</td>\n    </tr>\n  </tbody>\n</table>\n<p>109 rows × 4 columns</p>\n</div>"
     },
     "execution_count": 4,
     "metadata": {},
     "output_type": "execute_result"
    }
   ],
   "source": [
    "reg = regions[['code', 'name']]\n",
    "reg = reg.rename(columns={\"code\": \"code_reg\", \"name\": \"name_reg\"})\n",
    "dep = departements[['code', 'name', 'region_code']]\n",
    "dep = dep.rename(columns={\"code\": \"code_dep\", \"name\": \"name_dep\", \"region_code\": \"code_reg\"})\n",
    "result = reg.merge(dep, how=\"inner\", on=\"code_reg\")\n",
    "result = pd.DataFrame(result)\n",
    "result"
   ],
   "metadata": {
    "collapsed": false,
    "ExecuteTime": {
     "end_time": "2024-12-16T18:13:08.357599Z",
     "start_time": "2024-12-16T18:13:08.317178Z"
    }
   },
   "id": "7d2a9a1ad5659c66",
   "execution_count": 4
  },
  {
   "cell_type": "code",
   "outputs": [
    {
     "data": {
      "text/plain": "      code_reg       name_reg code_dep        name_dep Department name  \\\n0           11  Île-de-France       75           Paris           PARIS   \n1           11  Île-de-France       77  Seine-et-Marne  SEINE ET MARNE   \n2           11  Île-de-France       77  Seine-et-Marne  SEINE ET MARNE   \n3           11  Île-de-France       77  Seine-et-Marne  SEINE ET MARNE   \n4           11  Île-de-France       77  Seine-et-Marne  SEINE ET MARNE   \n...        ...            ...      ...             ...             ...   \n36560       94          Corse       2B     Haute-Corse     HAUTE CORSE   \n36561       94          Corse       2B     Haute-Corse     HAUTE CORSE   \n36562       94          Corse       2B     Haute-Corse     HAUTE CORSE   \n36563       94          Corse       2B     Haute-Corse     HAUTE CORSE   \n36564       94          Corse       2B     Haute-Corse     HAUTE CORSE   \n\n       Town code               Town name  Registered  Abstentions   Null  \\\n0             56                   Paris     1253322       248755  12093   \n1              1        Achères-la-Forêt         906          148     15   \n2              2                 Amillis         553           94      8   \n3              3              Amponville         277           36      1   \n4              4                Andrezel         266           44      3   \n...          ...                     ...         ...          ...    ...   \n36560        356                  Zalana         200           52      6   \n36561        361                   Zilia         221           45      0   \n36562        364                   Zuani          75           15      1   \n36563        365  San-Gavino-di-Fiumorbo         296           86      4   \n36564        366                   Chisa         185           34      8   \n\n       Choice A  Choice B Department code  \n0        506594    485880              75  \n1           224       519              77  \n2           121       330              77  \n3            75       165              77  \n4            76       143              77  \n...         ...       ...             ...  \n36560        56        86              2B  \n36561        57       119              2B  \n36562        18        41              2B  \n36563       138        68              2B  \n36564       100        43              2B  \n\n[36565 rows x 13 columns]",
      "text/html": "<div>\n<style scoped>\n    .dataframe tbody tr th:only-of-type {\n        vertical-align: middle;\n    }\n\n    .dataframe tbody tr th {\n        vertical-align: top;\n    }\n\n    .dataframe thead th {\n        text-align: right;\n    }\n</style>\n<table border=\"1\" class=\"dataframe\">\n  <thead>\n    <tr style=\"text-align: right;\">\n      <th></th>\n      <th>code_reg</th>\n      <th>name_reg</th>\n      <th>code_dep</th>\n      <th>name_dep</th>\n      <th>Department name</th>\n      <th>Town code</th>\n      <th>Town name</th>\n      <th>Registered</th>\n      <th>Abstentions</th>\n      <th>Null</th>\n      <th>Choice A</th>\n      <th>Choice B</th>\n      <th>Department code</th>\n    </tr>\n  </thead>\n  <tbody>\n    <tr>\n      <th>0</th>\n      <td>11</td>\n      <td>Île-de-France</td>\n      <td>75</td>\n      <td>Paris</td>\n      <td>PARIS</td>\n      <td>56</td>\n      <td>Paris</td>\n      <td>1253322</td>\n      <td>248755</td>\n      <td>12093</td>\n      <td>506594</td>\n      <td>485880</td>\n      <td>75</td>\n    </tr>\n    <tr>\n      <th>1</th>\n      <td>11</td>\n      <td>Île-de-France</td>\n      <td>77</td>\n      <td>Seine-et-Marne</td>\n      <td>SEINE ET MARNE</td>\n      <td>1</td>\n      <td>Achères-la-Forêt</td>\n      <td>906</td>\n      <td>148</td>\n      <td>15</td>\n      <td>224</td>\n      <td>519</td>\n      <td>77</td>\n    </tr>\n    <tr>\n      <th>2</th>\n      <td>11</td>\n      <td>Île-de-France</td>\n      <td>77</td>\n      <td>Seine-et-Marne</td>\n      <td>SEINE ET MARNE</td>\n      <td>2</td>\n      <td>Amillis</td>\n      <td>553</td>\n      <td>94</td>\n      <td>8</td>\n      <td>121</td>\n      <td>330</td>\n      <td>77</td>\n    </tr>\n    <tr>\n      <th>3</th>\n      <td>11</td>\n      <td>Île-de-France</td>\n      <td>77</td>\n      <td>Seine-et-Marne</td>\n      <td>SEINE ET MARNE</td>\n      <td>3</td>\n      <td>Amponville</td>\n      <td>277</td>\n      <td>36</td>\n      <td>1</td>\n      <td>75</td>\n      <td>165</td>\n      <td>77</td>\n    </tr>\n    <tr>\n      <th>4</th>\n      <td>11</td>\n      <td>Île-de-France</td>\n      <td>77</td>\n      <td>Seine-et-Marne</td>\n      <td>SEINE ET MARNE</td>\n      <td>4</td>\n      <td>Andrezel</td>\n      <td>266</td>\n      <td>44</td>\n      <td>3</td>\n      <td>76</td>\n      <td>143</td>\n      <td>77</td>\n    </tr>\n    <tr>\n      <th>...</th>\n      <td>...</td>\n      <td>...</td>\n      <td>...</td>\n      <td>...</td>\n      <td>...</td>\n      <td>...</td>\n      <td>...</td>\n      <td>...</td>\n      <td>...</td>\n      <td>...</td>\n      <td>...</td>\n      <td>...</td>\n      <td>...</td>\n    </tr>\n    <tr>\n      <th>36560</th>\n      <td>94</td>\n      <td>Corse</td>\n      <td>2B</td>\n      <td>Haute-Corse</td>\n      <td>HAUTE CORSE</td>\n      <td>356</td>\n      <td>Zalana</td>\n      <td>200</td>\n      <td>52</td>\n      <td>6</td>\n      <td>56</td>\n      <td>86</td>\n      <td>2B</td>\n    </tr>\n    <tr>\n      <th>36561</th>\n      <td>94</td>\n      <td>Corse</td>\n      <td>2B</td>\n      <td>Haute-Corse</td>\n      <td>HAUTE CORSE</td>\n      <td>361</td>\n      <td>Zilia</td>\n      <td>221</td>\n      <td>45</td>\n      <td>0</td>\n      <td>57</td>\n      <td>119</td>\n      <td>2B</td>\n    </tr>\n    <tr>\n      <th>36562</th>\n      <td>94</td>\n      <td>Corse</td>\n      <td>2B</td>\n      <td>Haute-Corse</td>\n      <td>HAUTE CORSE</td>\n      <td>364</td>\n      <td>Zuani</td>\n      <td>75</td>\n      <td>15</td>\n      <td>1</td>\n      <td>18</td>\n      <td>41</td>\n      <td>2B</td>\n    </tr>\n    <tr>\n      <th>36563</th>\n      <td>94</td>\n      <td>Corse</td>\n      <td>2B</td>\n      <td>Haute-Corse</td>\n      <td>HAUTE CORSE</td>\n      <td>365</td>\n      <td>San-Gavino-di-Fiumorbo</td>\n      <td>296</td>\n      <td>86</td>\n      <td>4</td>\n      <td>138</td>\n      <td>68</td>\n      <td>2B</td>\n    </tr>\n    <tr>\n      <th>36564</th>\n      <td>94</td>\n      <td>Corse</td>\n      <td>2B</td>\n      <td>Haute-Corse</td>\n      <td>HAUTE CORSE</td>\n      <td>366</td>\n      <td>Chisa</td>\n      <td>185</td>\n      <td>34</td>\n      <td>8</td>\n      <td>100</td>\n      <td>43</td>\n      <td>2B</td>\n    </tr>\n  </tbody>\n</table>\n<p>36565 rows × 13 columns</p>\n</div>"
     },
     "execution_count": 6,
     "metadata": {},
     "output_type": "execute_result"
    }
   ],
   "source": [
    "ref = referendum.rename(columns={\"Department code\": \"code_dep\"})\n",
    "ref['code_dep'] = ref['code_dep'].apply(lambda x: f\"{int(x):02d}\" if str(x).isdigit() and 1 <= int(x) <= 9 else x)\n",
    "\n",
    "df = pd.DataFrame(result.merge(ref, how='inner', on='code_dep'))\n",
    "\n",
    "dep_list = ['Guadeloupe', 'Martinique', 'Guyane', 'La Réunion',\n",
    "            'Mayotte', 'Saint-Pierre-et-Miquelon', 'Saint-Barthélemy',\n",
    "            'Saint-Martin', 'Terres australes et antarctiques françaises',\n",
    "            'Wallis et Futuna', 'Polynésie française', 'Nouvelle-Calédonie',\n",
    "            'Île de Clipperton']\n",
    "\n",
    "df = df.drop(df[df[\"name_dep\"].isin(dep_list)].index)\n",
    "df['Department code'] = df['code_dep']\n",
    "df"
   ],
   "metadata": {
    "collapsed": false,
    "ExecuteTime": {
     "end_time": "2024-12-16T18:14:10.174790Z",
     "start_time": "2024-12-16T18:14:10.086540Z"
    }
   },
   "id": "8deebbf6e838ffca",
   "execution_count": 6
  },
  {
   "cell_type": "code",
   "outputs": [
    {
     "data": {
      "text/plain": "          Registered  Abstentions   Null  Choice A  Choice B\ncode_reg                                                    \n11           6942361      1515884  85997   2536620   2803860\n24           1801366       326560  28827    590890    855089\n27           1997925       358321  33671    668246    937687\n28           2372779       426075  35513    816972   1094219\n32           4210444       866555  60601   1411257   1872031\n44           3857089       783348  56951   1088684   1928106\n52           2605438       412509  47677    922468   1222784\n53           2380594       364724  36077    944052   1035741\n75           4201774       711017  71629   1641249   1777879\n76           4008516       660914  62732   1528980   1755890\n84           5227873       909284  81817   1791857   2444915\n93           3436084       666729  44706    998439   1726210\n94            220349        56696   2921     60917     99815",
      "text/html": "<div>\n<style scoped>\n    .dataframe tbody tr th:only-of-type {\n        vertical-align: middle;\n    }\n\n    .dataframe tbody tr th {\n        vertical-align: top;\n    }\n\n    .dataframe thead th {\n        text-align: right;\n    }\n</style>\n<table border=\"1\" class=\"dataframe\">\n  <thead>\n    <tr style=\"text-align: right;\">\n      <th></th>\n      <th>Registered</th>\n      <th>Abstentions</th>\n      <th>Null</th>\n      <th>Choice A</th>\n      <th>Choice B</th>\n    </tr>\n    <tr>\n      <th>code_reg</th>\n      <th></th>\n      <th></th>\n      <th></th>\n      <th></th>\n      <th></th>\n    </tr>\n  </thead>\n  <tbody>\n    <tr>\n      <th>11</th>\n      <td>6942361</td>\n      <td>1515884</td>\n      <td>85997</td>\n      <td>2536620</td>\n      <td>2803860</td>\n    </tr>\n    <tr>\n      <th>24</th>\n      <td>1801366</td>\n      <td>326560</td>\n      <td>28827</td>\n      <td>590890</td>\n      <td>855089</td>\n    </tr>\n    <tr>\n      <th>27</th>\n      <td>1997925</td>\n      <td>358321</td>\n      <td>33671</td>\n      <td>668246</td>\n      <td>937687</td>\n    </tr>\n    <tr>\n      <th>28</th>\n      <td>2372779</td>\n      <td>426075</td>\n      <td>35513</td>\n      <td>816972</td>\n      <td>1094219</td>\n    </tr>\n    <tr>\n      <th>32</th>\n      <td>4210444</td>\n      <td>866555</td>\n      <td>60601</td>\n      <td>1411257</td>\n      <td>1872031</td>\n    </tr>\n    <tr>\n      <th>44</th>\n      <td>3857089</td>\n      <td>783348</td>\n      <td>56951</td>\n      <td>1088684</td>\n      <td>1928106</td>\n    </tr>\n    <tr>\n      <th>52</th>\n      <td>2605438</td>\n      <td>412509</td>\n      <td>47677</td>\n      <td>922468</td>\n      <td>1222784</td>\n    </tr>\n    <tr>\n      <th>53</th>\n      <td>2380594</td>\n      <td>364724</td>\n      <td>36077</td>\n      <td>944052</td>\n      <td>1035741</td>\n    </tr>\n    <tr>\n      <th>75</th>\n      <td>4201774</td>\n      <td>711017</td>\n      <td>71629</td>\n      <td>1641249</td>\n      <td>1777879</td>\n    </tr>\n    <tr>\n      <th>76</th>\n      <td>4008516</td>\n      <td>660914</td>\n      <td>62732</td>\n      <td>1528980</td>\n      <td>1755890</td>\n    </tr>\n    <tr>\n      <th>84</th>\n      <td>5227873</td>\n      <td>909284</td>\n      <td>81817</td>\n      <td>1791857</td>\n      <td>2444915</td>\n    </tr>\n    <tr>\n      <th>93</th>\n      <td>3436084</td>\n      <td>666729</td>\n      <td>44706</td>\n      <td>998439</td>\n      <td>1726210</td>\n    </tr>\n    <tr>\n      <th>94</th>\n      <td>220349</td>\n      <td>56696</td>\n      <td>2921</td>\n      <td>60917</td>\n      <td>99815</td>\n    </tr>\n  </tbody>\n</table>\n</div>"
     },
     "execution_count": 16,
     "metadata": {},
     "output_type": "execute_result"
    }
   ],
   "source": [
    "dfg = df.groupby('code_reg')[['Registered', 'Abstentions', 'Null', 'Choice A', 'Choice B']].sum()\n",
    "dfg"
   ],
   "metadata": {
    "collapsed": false,
    "ExecuteTime": {
     "end_time": "2024-12-16T18:22:29.099097Z",
     "start_time": "2024-12-16T18:22:29.079007Z"
    }
   },
   "id": "3c1dd37c15b3bf63",
   "execution_count": 16
  },
  {
   "cell_type": "code",
   "outputs": [
    {
     "data": {
      "text/plain": "                            name_reg  Registered  Abstentions   Null  \\\ncode_reg                                                               \n11                     Île-de-France     6942361      1515884  85997   \n24               Centre-Val de Loire     1801366       326560  28827   \n27           Bourgogne-Franche-Comté     1997925       358321  33671   \n28                         Normandie     2372779       426075  35513   \n32                   Hauts-de-France     4210444       866555  60601   \n44                         Grand Est     3857089       783348  56951   \n52                  Pays de la Loire     2605438       412509  47677   \n53                          Bretagne     2380594       364724  36077   \n75                Nouvelle-Aquitaine     4201774       711017  71629   \n76                         Occitanie     4008516       660914  62732   \n84              Auvergne-Rhône-Alpes     5227873       909284  81817   \n93        Provence-Alpes-Côte d'Azur     3436084       666729  44706   \n94                             Corse      220349        56696   2921   \n\n          Choice A  Choice B  \ncode_reg                      \n11         2536620   2803860  \n24          590890    855089  \n27          668246    937687  \n28          816972   1094219  \n32         1411257   1872031  \n44         1088684   1928106  \n52          922468   1222784  \n53          944052   1035741  \n75         1641249   1777879  \n76         1528980   1755890  \n84         1791857   2444915  \n93          998439   1726210  \n94           60917     99815  ",
      "text/html": "<div>\n<style scoped>\n    .dataframe tbody tr th:only-of-type {\n        vertical-align: middle;\n    }\n\n    .dataframe tbody tr th {\n        vertical-align: top;\n    }\n\n    .dataframe thead th {\n        text-align: right;\n    }\n</style>\n<table border=\"1\" class=\"dataframe\">\n  <thead>\n    <tr style=\"text-align: right;\">\n      <th></th>\n      <th>name_reg</th>\n      <th>Registered</th>\n      <th>Abstentions</th>\n      <th>Null</th>\n      <th>Choice A</th>\n      <th>Choice B</th>\n    </tr>\n    <tr>\n      <th>code_reg</th>\n      <th></th>\n      <th></th>\n      <th></th>\n      <th></th>\n      <th></th>\n      <th></th>\n    </tr>\n  </thead>\n  <tbody>\n    <tr>\n      <th>11</th>\n      <td>Île-de-France</td>\n      <td>6942361</td>\n      <td>1515884</td>\n      <td>85997</td>\n      <td>2536620</td>\n      <td>2803860</td>\n    </tr>\n    <tr>\n      <th>24</th>\n      <td>Centre-Val de Loire</td>\n      <td>1801366</td>\n      <td>326560</td>\n      <td>28827</td>\n      <td>590890</td>\n      <td>855089</td>\n    </tr>\n    <tr>\n      <th>27</th>\n      <td>Bourgogne-Franche-Comté</td>\n      <td>1997925</td>\n      <td>358321</td>\n      <td>33671</td>\n      <td>668246</td>\n      <td>937687</td>\n    </tr>\n    <tr>\n      <th>28</th>\n      <td>Normandie</td>\n      <td>2372779</td>\n      <td>426075</td>\n      <td>35513</td>\n      <td>816972</td>\n      <td>1094219</td>\n    </tr>\n    <tr>\n      <th>32</th>\n      <td>Hauts-de-France</td>\n      <td>4210444</td>\n      <td>866555</td>\n      <td>60601</td>\n      <td>1411257</td>\n      <td>1872031</td>\n    </tr>\n    <tr>\n      <th>44</th>\n      <td>Grand Est</td>\n      <td>3857089</td>\n      <td>783348</td>\n      <td>56951</td>\n      <td>1088684</td>\n      <td>1928106</td>\n    </tr>\n    <tr>\n      <th>52</th>\n      <td>Pays de la Loire</td>\n      <td>2605438</td>\n      <td>412509</td>\n      <td>47677</td>\n      <td>922468</td>\n      <td>1222784</td>\n    </tr>\n    <tr>\n      <th>53</th>\n      <td>Bretagne</td>\n      <td>2380594</td>\n      <td>364724</td>\n      <td>36077</td>\n      <td>944052</td>\n      <td>1035741</td>\n    </tr>\n    <tr>\n      <th>75</th>\n      <td>Nouvelle-Aquitaine</td>\n      <td>4201774</td>\n      <td>711017</td>\n      <td>71629</td>\n      <td>1641249</td>\n      <td>1777879</td>\n    </tr>\n    <tr>\n      <th>76</th>\n      <td>Occitanie</td>\n      <td>4008516</td>\n      <td>660914</td>\n      <td>62732</td>\n      <td>1528980</td>\n      <td>1755890</td>\n    </tr>\n    <tr>\n      <th>84</th>\n      <td>Auvergne-Rhône-Alpes</td>\n      <td>5227873</td>\n      <td>909284</td>\n      <td>81817</td>\n      <td>1791857</td>\n      <td>2444915</td>\n    </tr>\n    <tr>\n      <th>93</th>\n      <td>Provence-Alpes-Côte d'Azur</td>\n      <td>3436084</td>\n      <td>666729</td>\n      <td>44706</td>\n      <td>998439</td>\n      <td>1726210</td>\n    </tr>\n    <tr>\n      <th>94</th>\n      <td>Corse</td>\n      <td>220349</td>\n      <td>56696</td>\n      <td>2921</td>\n      <td>60917</td>\n      <td>99815</td>\n    </tr>\n  </tbody>\n</table>\n</div>"
     },
     "execution_count": 23,
     "metadata": {},
     "output_type": "execute_result"
    }
   ],
   "source": [
    "dfg = df.groupby(['code_reg', 'name_reg'], as_index=False)[['Registered', 'Abstentions', 'Null', 'Choice A', 'Choice B']].sum()\n",
    "dfg.set_index('code_reg')"
   ],
   "metadata": {
    "collapsed": false,
    "ExecuteTime": {
     "end_time": "2024-12-16T18:28:26.968185Z",
     "start_time": "2024-12-16T18:28:26.935464Z"
    }
   },
   "id": "28b6b1911ec548c5",
   "execution_count": 23
  },
  {
   "cell_type": "code",
   "outputs": [
    {
     "name": "stdout",
     "output_type": "stream",
     "text": [
      "<pandas.core.groupby.generic.SeriesGroupBy object at 0x000001AD3FC2A280>\n"
     ]
    }
   ],
   "source": [],
   "metadata": {
    "collapsed": false,
    "ExecuteTime": {
     "end_time": "2024-12-16T18:23:22.627282Z",
     "start_time": "2024-12-16T18:23:22.608930Z"
    }
   },
   "id": "6acab9abf9447e7f",
   "execution_count": 19
  },
  {
   "cell_type": "code",
   "outputs": [],
   "source": [],
   "metadata": {
    "collapsed": false
   },
   "id": "7085e2d536738199"
  }
 ],
 "metadata": {
  "kernelspec": {
   "display_name": "Python 3",
   "language": "python",
   "name": "python3"
  },
  "language_info": {
   "codemirror_mode": {
    "name": "ipython",
    "version": 2
   },
   "file_extension": ".py",
   "mimetype": "text/x-python",
   "name": "python",
   "nbconvert_exporter": "python",
   "pygments_lexer": "ipython2",
   "version": "2.7.6"
  }
 },
 "nbformat": 4,
 "nbformat_minor": 5
}
